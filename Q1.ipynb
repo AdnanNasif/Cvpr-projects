{
  "nbformat": 4,
  "nbformat_minor": 0,
  "metadata": {
    "colab": {
      "name": "Untitled0.ipynb",
      "provenance": [],
      "authorship_tag": "ABX9TyOA8ALKfCpkOQJ8BHtqUEHo",
      "include_colab_link": true
    },
    "kernelspec": {
      "name": "python3",
      "display_name": "Python 3"
    },
    "language_info": {
      "name": "python"
    }
  },
  "cells": [
    {
      "cell_type": "markdown",
      "metadata": {
        "id": "view-in-github",
        "colab_type": "text"
      },
      "source": [
        "<a href=\"https://colab.research.google.com/github/AdnanNasif/Cvpr__mid/blob/main/Q1.ipynb\" target=\"_parent\"><img src=\"https://colab.research.google.com/assets/colab-badge.svg\" alt=\"Open In Colab\"/></a>"
      ]
    },
    {
      "cell_type": "code",
      "execution_count": null,
      "metadata": {
        "id": "FiDCD9MrnM6v"
      },
      "outputs": [],
      "source": [
        ""
      ]
    },
    {
      "cell_type": "code",
      "source": [
        "import numpy as np\n",
        "import matplotlib.pyplot as plt\n",
        "%matplotlib inline\n",
        "\n",
        "def spirals(n_points, noise=.5):\n",
        "    n = np.sqrt(np.random.rand(n_points,1)) * 200 * (2*np.pi)/180\n",
        "    d1x = -np.cos(n)*n + np.random.rand(n_points,1) * noise\n",
        "    d1y = np.sin(n)*n + np.random.rand(n_points,1) * noise\n",
        "    return (np.vstack((np.hstack((d1x,d1y)),np.hstack((-d1x,-d1y)))), \n",
        "            np.hstack((np.zeros(n_points),np.ones(n_points))))\n",
        "\n",
        "X, Y = spirals(100)\n",
        "\n",
        "plt.title('train')\n",
        "plt.plot(X[Y==0,0], X[Y==0,1], '+', label='A')\n",
        "plt.plot(X[Y==1,0], X[Y==1,1], '+', label='B')\n",
        "plt.legend()\n",
        "plt.show()\n",
        "import numpy as np\n",
        "import matplotlib.pyplot as plt\n",
        "%matplotlib inline\n",
        "\n",
        "def spirals(n_points, noise=.5):\n",
        "    n = np.sqrt(np.random.rand(n_points,1)) * 200 * (2*np.pi)/180\n",
        "    d1x = -np.cos(n)*n + np.random.rand(n_points,1) * noise\n",
        "    d1y = np.sin(n)*n + np.random.rand(n_points,1) * noise\n",
        "    return (np.vstack((np.hstack((d1x,d1y)),np.hstack((-d1x,-d1y)))), \n",
        "            np.hstack((np.zeros(n_points),np.ones(n_points))))\n",
        "\n",
        "X, Y = spirals(100)\n",
        "\n",
        "plt.title('train')\n",
        "plt.plot(X[Y==0,0], X[Y==0,1], '+', label='A')\n",
        "plt.plot(X[Y==1,0], X[Y==1,1], '+', label='B')\n",
        "plt.legend()\n",
        "plt.show()"
      ],
      "metadata": {
        "colab": {
          "base_uri": "https://localhost:8080/",
          "height": 545
        },
        "id": "D4mM3Jk9k0LO",
        "outputId": "7f265b56-e663-4a9b-cd09-cc577469f772"
      },
      "execution_count": null,
      "outputs": [
        {
          "output_type": "display_data",
          "data": {
            "image/png": "[encoded data removed]",
            "text/plain": [
              "<Figure size 432x288 with 1 Axes>"
            ]
          },
          "metadata": {
            "needs_background": "light"
          }
        },
        {
          "output_type": "display_data",
          "data": {
            "image/png": "[encoded data removed]",
            "text/plain": [
              "<Figure size 432x288 with 1 Axes>"
            ]
          },
          "metadata": {
            "needs_background": "light"
          }
        }
      ]
    },
    {
      "cell_type": "code",
      "source": [
        "import numpy as np \n",
        "import matplotlib.pyplot as plt \n",
        "import matplotlib.cm as cm \n",
        "\n",
        "n = 256\n",
        "angle = np.linspace(0,12*2*np.pi, n)\n",
        "radius = np.linspace(.1,1.,n)\n",
        "\n",
        "x = radius * np.cos(angle)\n",
        "y = radius * np.sin(angle)\n",
        "print(x)"
      ],
      "metadata": {
        "colab": {
          "base_uri": "https://localhost:8080/"
        },
        "id": "lmfWuuhinTFj",
        "outputId": "95eb7f3f-3c77-41be-e5c6-0045f0c11080"
      },
      "execution_count": 1,
      "outputs": [
        {
          "output_type": "stream",
          "name": "stdout",
          "text": [
            "[ 0.1         0.09903669  0.08887853  0.06985981  0.04318338  0.0108551\n",
            " -0.0244634  -0.05967321 -0.09151001 -0.11684547 -0.13299048 -0.13797103\n",
            " -0.13074932 -0.11136634 -0.08098915 -0.04185434  0.00289141  0.04944272\n",
            "  0.09365904  0.13143268  0.15906879  0.17364216  0.17329683  0.15745847\n",
            "  0.12693666  0.08390369  0.03174739 -0.02519279 -0.08198614 -0.13353767\n",
            " -0.1750447  -0.20244221 -0.21279575 -0.2046045  -0.17798374 -0.13470657\n",
            " -0.07809664 -0.01277723  0.05570483  0.12135     0.17823156  0.2210299\n",
            "  0.24552745  0.24901836  0.2305937   0.1912729   0.1339656   0.06326277\n",
            " -0.0149285  -0.09387782 -0.16661075 -0.22652476 -0.26798741 -0.28686278\n",
            " -0.280917   -0.25006386 -0.1964246  -0.12419202 -0.03930682  0.05102955\n",
            "  0.13896549  0.21668168  0.27708601  0.31445915  0.32499242  0.30716732\n",
            "  0.26193979  0.19270853  0.10506578  0.00634805 -0.09497716 -0.19003753\n",
            " -0.2703328  -0.32849417 -0.35895854 -0.35849607 -0.32654137 -0.26529507\n",
            " -0.17958258 -0.07647781  0.03527908  0.14602215  0.2459957   0.32621349\n",
            "  0.37926552  0.4         0.38601802  0.33793373  0.25937311  0.15670669\n",
            "  0.03853561 -0.08502812 -0.20322668 -0.30559305 -0.38287758 -0.42788241\n",
            " -0.43612877 -0.40629542 -0.34038582 -0.24360516 -0.12395324  0.00843508\n",
            "  0.14214782  0.26547958  0.36745617  0.43881046  0.47282291  0.46595042\n",
            "  0.41818515  0.33310766  0.2176252   0.08141355 -0.06389255 -0.20569303\n",
            " -0.33151503 -0.43010985 -0.49245773 -0.51259087 -0.48815965 -0.42068884\n",
            " -0.31549696 -0.18128131 -0.02940068  0.12708539  0.27453936  0.39993424\n",
            "  0.49200406  0.54225493  0.54574584  0.50156786  0.41297557  0.28715495\n",
            "  0.13464333 -0.03155195 -0.1970625  -0.34740114 -0.46922986 -0.55154256\n",
            " -0.5866579  -0.57093252 -0.505129   -0.39440196 -0.24789892 -0.07800659\n",
            "  0.10069571  0.27268699  0.42285269  0.53781269  0.60711274  0.62417318\n",
            "  0.58690899  0.49796327  0.36452907  0.19777088  0.01189172 -0.17707605\n",
            " -0.35265354 -0.49935229 -0.60404026 -0.65711628 -0.653388   -0.59257347\n",
            " -0.47937812 -0.32313605 -0.13704253  0.06295959  0.25954546  0.435509\n",
            "  0.5752687   0.66624684  0.7         0.67299934  0.58698894  0.44888641\n",
            "  0.27023001  0.06621612 -0.14559284 -0.34678015 -0.5196761  -0.64890969\n",
            " -0.72277434 -0.73428652 -0.68184152 -0.56940531 -0.40622116 -0.20605213\n",
            "  0.01397875  0.23485292  0.43730012  0.60347965  0.71855213  0.77200367\n",
            "  0.75860401  0.67891184  0.53927867  0.3513467   0.13107972 -0.10259232\n",
            " -0.32939993 -0.52949239 -0.68517499 -0.78247325 -0.81238599 -0.7717148\n",
            " -0.66339394 -0.49628735 -0.28446599 -0.04602412  0.19846595  0.42772872\n",
            "  0.62163691  0.76297822  0.83898241  0.84247332  0.77254202  0.63467825\n",
            "  0.44034431  0.20602389 -0.04817539 -0.30024717 -0.52819153 -0.71193496\n",
            " -0.83509771 -0.88645302 -0.86094804 -0.76019414 -0.59237932 -0.37160581\n",
            " -0.11670635  0.15036187  0.4064085   0.6290237   0.79853937  0.89976633\n",
            "  0.92335393  0.86665066  0.73398675  0.53634961  0.29047597  0.01743539\n",
            " -0.25917495 -0.51526954 -0.72837177 -0.87958636 -0.95527402 -0.94827993\n",
            " -0.85860558 -0.69346116 -0.46668952 -0.19760725  0.09064009  0.37306878\n",
            "  0.6250223   0.82432391  0.95322817  1.        ]\n"
          ]
        }
      ]
    },
    {
      "cell_type": "code",
      "source": [
        ""
      ],
      "metadata": {
        "id": "cJWkA3dRnt5j"
      },
      "execution_count": null,
      "outputs": []
    }
  ]
}